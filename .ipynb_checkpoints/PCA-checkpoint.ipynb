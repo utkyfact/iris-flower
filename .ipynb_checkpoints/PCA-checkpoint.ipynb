{
 "cells": [
  {
   "cell_type": "markdown",
   "id": "458b2ad8",
   "metadata": {},
   "source": [
    "# PCA -  Principal Component Analysis\n",
    "\n",
    "\n",
    "\n",
    "Bu dersimizde örnek olarak kullanacagimiz veri seti yapay ögrenme alaninin en popüler veri setlerinden “Iris” veri seti. Iris veri seti 3 Iris bitki türüne (Iris setosa, Iris virginica ve Iris versicolor) ait, her bir türden 50 örnek olmak üzere toplam 150 örnek sayisina sahip bir veri setidir. Her bir örnek için 4 özellik tanimlanmistir: taç yaprak uzunlugu, taç yaprak genisligi, çanak yaprak genisligi, çanak yaprak uzunluğu('sepal length','sepal width','petal length','petal width'). \n",
    "\n",
    "Veri setimizde, her bir bitki örnegi ayri bir gözlemi (örnegi) ifade ederken; bitki tür ismi bagimli(dependent) degisken, bitkilerin ölçülen 4 temel özelligi ise bagimsiz(independent) degiskenleri ifade eder."
   ]
  },
  {
   "cell_type": "code",
   "execution_count": null,
   "id": "57072714",
   "metadata": {},
   "outputs": [],
   "source": [
    "\n",
    "import pandas as pd\n",
    "from matplotlib import pyplot as plt\n",
    "from sklearn.preprocessing import StandardScaler\n",
    "from sklearn.decomposition import PCA\n",
    "\n",
    "url = \"pca_iris.data\"\n",
    "# datasetimizi Pandas DataFrame içine yüklüyoruz..\n",
    "df = pd.read_csv(url, names=['sepal length','sepal width','petal length','petal width','target'])\n",
    "\n",
    "df"
   ]
  },
  {
   "cell_type": "code",
   "execution_count": null,
   "id": "134685ab",
   "metadata": {},
   "outputs": [],
   "source": [
    "features = ['sepal length', 'sepal width', 'petal length', 'petal width']\n",
    "# feature'ları x olarak ayıralım:\n",
    "x = df[features]\n",
    "\n",
    "# target'i y olarak ayıralım:\n",
    "y = df[['target']]"
   ]
  },
  {
   "cell_type": "markdown",
   "id": "32150f59",
   "metadata": {},
   "source": [
    "#### Değerleri Scale etmemiz gerekiyor. Çünkü her bir feature çok farklı boyutlarda ve bunların yapay zeka tarafından eşit ağırlıklarda dengelenmesi gerekiyor. Bu amaçla standart scaler  kullanarak tüm verileri mean = 0 and variance = 1 olacak şekilde değiştiriyoruz."
   ]
  },
  {
   "cell_type": "code",
   "execution_count": null,
   "id": "414aa924",
   "metadata": {},
   "outputs": [],
   "source": [
    "# Standardizing the features\n",
    "x = StandardScaler().fit_transform(x)"
   ]
  },
  {
   "cell_type": "code",
   "execution_count": null,
   "id": "889702fa",
   "metadata": {},
   "outputs": [],
   "source": [
    "# Bakalım scale etmiş mi?\n",
    "x"
   ]
  },
  {
   "cell_type": "markdown",
   "id": "b6c3f010",
   "metadata": {},
   "source": [
    "### PCA Projection 4 boyuttan - 2 boyuta\n",
    "\n",
    "Orjinal verilerimiz 4 boyuta sahip: 'sepal length', 'sepal width', 'petal length', 'petal width'\n",
    "\n",
    "Biz PCA yaparak bunları 2 boyuta indirgeyeceğiz ancak şunu belirtmeliyim ki PCA indirgeme işlemi sonucunda elde edeceğimiz 2 boyutun herhangi bir anlam ifade etmeyen başlıklara sahip olacak.. Yani 4 feature'dan 2 tanesini basit bir şekilde atmak değil yaptığımız..\n",
    "\n"
   ]
  },
  {
   "cell_type": "code",
   "execution_count": null,
   "id": "6efbd91d",
   "metadata": {},
   "outputs": [],
   "source": [
    "pca = PCA(n_components=2)\n",
    "principalComponents = pca.fit_transform(x)\n",
    "principalDf = pd.DataFrame(data = principalComponents, columns = ['principal component 1', 'principal component 2'])"
   ]
  },
  {
   "cell_type": "code",
   "execution_count": null,
   "id": "3cf0cc23",
   "metadata": {},
   "outputs": [],
   "source": [
    "principalDf"
   ]
  },
  {
   "cell_type": "markdown",
   "id": "a130abd9",
   "metadata": {},
   "source": [
    "### Şimdi en son target sütunumuzu da PCA dataframe'imizin sonuna ekleyelim:"
   ]
  },
  {
   "cell_type": "code",
   "execution_count": null,
   "id": "8faeeef0",
   "metadata": {},
   "outputs": [],
   "source": [
    "final_dataframe = pd.concat([principalDf, df[['target']]], axis = 1)"
   ]
  },
  {
   "cell_type": "code",
   "execution_count": null,
   "id": "4056e584",
   "metadata": {},
   "outputs": [],
   "source": [
    "final_dataframe.head()"
   ]
  },
  {
   "cell_type": "code",
   "execution_count": null,
   "id": "0eb1f240",
   "metadata": {},
   "outputs": [],
   "source": []
  },
  {
   "cell_type": "markdown",
   "id": "5444d02b",
   "metadata": {},
   "source": [
    "### Son olarak da final dataframe'imizi görselleştirip bakalım:"
   ]
  },
  {
   "cell_type": "markdown",
   "id": "f09eaafb",
   "metadata": {},
   "source": [
    "Basit bir çizim yapalım:"
   ]
  },
  {
   "cell_type": "code",
   "execution_count": null,
   "id": "6a4d3ad6",
   "metadata": {},
   "outputs": [],
   "source": [
    "dfsetosa= final_dataframe[df.target=='Iris-setosa']\n",
    "dfvirginica = final_dataframe[df.target=='Iris-virginica']\n",
    "dfversicolor = final_dataframe[df.target=='Iris-versicolor']\n",
    "plt.xlabel('principal component 1')\n",
    "plt.ylabel('principal component 2')\n",
    "\n",
    "plt.scatter(dfsetosa['principal component 1'], dfsetosa['principal component 2'],color='green')\n",
    "plt.scatter(dfvirginica['principal component 1'], dfvirginica['principal component 2'],color='red')\n",
    "plt.scatter(dfversicolor['principal component 1'], dfversicolor['principal component 2'],color='blue')\n"
   ]
  },
  {
   "cell_type": "markdown",
   "id": "00382707",
   "metadata": {},
   "source": [
    "### Daha profesyonel bir plotting yapalım:"
   ]
  },
  {
   "cell_type": "code",
   "execution_count": null,
   "id": "0d2deafe",
   "metadata": {},
   "outputs": [],
   "source": [
    "targets = ['Iris-setosa', 'Iris-versicolor', 'Iris-virginica']\n",
    "colors = ['g', 'b', 'r']\n",
    "\n",
    "plt.xlabel('principal component 1')\n",
    "plt.ylabel('principal component 2')\n",
    "\n",
    "for target, col in zip(targets,colors):\n",
    "    dftemp = final_dataframe[df.target==target]\n",
    "    plt.scatter(dftemp['principal component 1'], dftemp['principal component 2'], color=col)"
   ]
  },
  {
   "cell_type": "code",
   "execution_count": null,
   "id": "bd182c6a",
   "metadata": {},
   "outputs": [],
   "source": []
  },
  {
   "cell_type": "code",
   "execution_count": null,
   "id": "8dc09830",
   "metadata": {},
   "outputs": [],
   "source": [
    "pca.explained_variance_ratio_"
   ]
  },
  {
   "cell_type": "code",
   "execution_count": null,
   "id": "d86ad5de",
   "metadata": {},
   "outputs": [],
   "source": [
    "pca.explained_variance_ratio_.sum()"
   ]
  },
  {
   "cell_type": "code",
   "execution_count": null,
   "id": "47c7ed0c",
   "metadata": {},
   "outputs": [],
   "source": []
  }
 ],
 "metadata": {
  "kernelspec": {
   "display_name": "Python 3 (ipykernel)",
   "language": "python",
   "name": "python3"
  },
  "language_info": {
   "codemirror_mode": {
    "name": "ipython",
    "version": 3
   },
   "file_extension": ".py",
   "mimetype": "text/x-python",
   "name": "python",
   "nbconvert_exporter": "python",
   "pygments_lexer": "ipython3",
   "version": "3.11.5"
  }
 },
 "nbformat": 4,
 "nbformat_minor": 5
}
